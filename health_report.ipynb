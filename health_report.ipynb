{
 "cells": [
  {
   "cell_type": "code",
   "execution_count": 1,
   "metadata": {
    "pycharm": {
     "is_executing": false,
     "name": "#%%\n"
    }
   },
   "outputs": [],
   "source": [
    "import os\n",
    "import requests\n",
    "\n",
    "from selenium import webdriver\n",
    "from selenium.webdriver.common.by import By\n",
    "from selenium.common.exceptions import NoSuchElementException, TimeoutException\n",
    "from selenium.webdriver.support.wait import WebDriverWait\n",
    "from selenium.webdriver.support import expected_conditions as EC"
   ]
  },
  {
   "cell_type": "code",
   "execution_count": 2,
   "metadata": {
    "collapsed": false,
    "jupyter": {
     "outputs_hidden": false
    },
    "pycharm": {
     "name": "#%%\n",
     "is_executing": false
    }
   },
   "outputs": [],
   "source": [
    "def sendNotification(app_name, message, additional_message='', event_name='program_log'):\n",
    "    my_key = 'dtFZmutEg9ANUtSEpAU7Tu'\n",
    "    data = {\n",
    "        \"value1\" : app_name,\n",
    "        \"value2\" : message,\n",
    "        \"value3\" : additional_message\n",
    "    }\n",
    "    url = \"https://maker.ifttt.com/trigger/\" + event_name + \"/with/key/\" + my_key\n",
    "    \n",
    "    r = requests.post(url, data=data)\n",
    "    \n",
    "    return r"
   ]
  },
  {
   "cell_type": "code",
   "execution_count": 3,
   "metadata": {
    "collapsed": false,
    "jupyter": {
     "outputs_hidden": false
    },
    "pycharm": {
     "is_executing": false,
     "name": "#%%\n"
    }
   },
   "outputs": [],
   "source": [
    "def waitForElement(driver, by_what=By.XPATH, element_info='', delay=20, do_quit=True):\n",
    "    try:\n",
    "        elem = WebDriverWait(driver, delay).until(EC.presence_of_element_located((by_what, element_info)))\n",
    "        print(\"Page is ready!\")\n",
    "        return elem\n",
    "    except TimeoutException:\n",
    "        print(\"Loading took too much time!\")\n",
    "        print(\"quiting while waiting for element:\", element_info)\n",
    "        if do_quit:\n",
    "            report = \"quiting while waiting for element: \" + element_info\n",
    "            send_report_and_close(report, driver)\n",
    "            # driver.quit()\n",
    "        return None"
   ]
  },
  {
   "cell_type": "code",
   "execution_count": 4,
   "outputs": [],
   "source": [
    "# sendNotification('Hello', 'Hello', event_name='program_log')"
   ],
   "metadata": {
    "collapsed": false,
    "pycharm": {
     "name": "#%%\n",
     "is_executing": false
    }
   }
  },
  {
   "cell_type": "code",
   "execution_count": 5,
   "metadata": {
    "pycharm": {
     "is_executing": false
    }
   },
   "outputs": [],
   "source": [
    "def send_report_and_close(report, driver):\n",
    "    for i in range(10):\n",
    "        r = sendNotification('Health report', report)\n",
    "        if r.status_code == 200:\n",
    "            break\n",
    "        else:\n",
    "            print(\"Hasn't send retrying... \" + str(i) + \" of 10\")\n",
    "  \n",
    "    driver.close()\n",
    "    exit()"
   ]
  },
  {
   "cell_type": "code",
   "execution_count": 6,
   "metadata": {
    "collapsed": false,
    "jupyter": {
     "outputs_hidden": false
    },
    "pycharm": {
     "is_executing": false,
     "name": "#%%\n"
    }
   },
   "outputs": [],
   "source": [
    "report = ''\n",
    "url = 'https://xmuxg.xmu.edu.cn/app/214'\n",
    "path_to_driver = os.path.join(os.path.curdir, 'chromedriver')\n",
    "\n",
    "driver = webdriver.Chrome(path_to_driver)\n",
    "driver.get(url)\n"
   ]
  },
  {
   "cell_type": "code",
   "execution_count": 7,
   "metadata": {
    "collapsed": false,
    "jupyter": {
     "outputs_hidden": false
    },
    "pycharm": {
     "is_executing": false,
     "name": "#%%\n"
    }
   },
   "outputs": [
    {
     "name": "stdout",
     "text": [
      "waiting to click\n",
      "Page is ready!\n"
     ],
     "output_type": "stream"
    }
   ],
   "source": [
    "loaded_url = driver.current_url\n",
    "if 'login' in loaded_url:\n",
    "    # log in here then\n",
    "    print('waiting to click')\n",
    "    loging_button = waitForElement(driver, element_info=\"//button[contains(.,'统一身份认证')]\")\n",
    "\n",
    "    loging_button.click()\n"
   ]
  },
  {
   "cell_type": "code",
   "execution_count": 10,
   "metadata": {
    "collapsed": false,
    "jupyter": {
     "outputs_hidden": false
    },
    "pycharm": {
     "is_executing": false,
     "name": "#%%\n"
    }
   },
   "outputs": [
    {
     "name": "stdout",
     "text": [
      "clicking login\n",
      "clicking password\n"
     ],
     "output_type": "stream"
    }
   ],
   "source": [
    "    login_field = driver.find_element_by_xpath(\"//input[@id='username']\")\n",
    "    login_field.click()\n",
    "    print('clicking login')\n",
    "    # login_field.clear()\n",
    "    login_field.send_keys('')\n",
    "\n",
    "    password_field = driver.find_element_by_xpath(\"//input[@id='password']\")\n",
    "    password_field.click()\n",
    "    print('clicking password')\n",
    "    # password_field.clear()\n",
    "    password_field.send_keys('')"
   ]
  },
  {
   "cell_type": "code",
   "execution_count": 11,
   "metadata": {
    "collapsed": false,
    "jupyter": {
     "outputs_hidden": false
    },
    "pycharm": {
     "is_executing": false,
     "name": "#%%\n"
    }
   },
   "outputs": [
    {
     "name": "stdout",
     "text": [
      "logged in successfully\n"
     ],
     "output_type": "stream"
    }
   ],
   "source": [
    "    # press login/登录\n",
    "    loging_button = driver.find_element_by_xpath(\"//button[contains(.,'登录/Login')]\")\n",
    "    loging_button.click()\n",
    "    \n",
    "    if loaded_url != driver.current_url:\n",
    "        print(\"logged in successfully\")\n",
    "        report += 'Login OK.'\n",
    "    else:\n",
    "        print(\"Hasn't logged in\")\n",
    "        report = \"Hasn't logged in. Check log:pass\"\n",
    "        send_report_and_close(report, driver)\n",
    "        # TODO: send_report_and_close()\n",
    "\n",
    "#\n",
    "# /html/body/div[1]/div[@id='main']/div[@class='page-container container-fluid']/div[@class='page-content row']/div[@class='col-sm-12 page left-show']/div[@id='mainPage-page']/div[@class='main-p']/div[@class='shadow_box box_wrap_2']/div[2]/div[@class='box_main box_flex']/div[@class='app_child box_flex'][1]/div[@class='grow_1 box_flex column justify_center']/div[@class='title box_flex']"
   ]
  },
  {
   "cell_type": "code",
   "execution_count": 12,
   "outputs": [
    {
     "name": "stdout",
     "text": [
      "Page is ready!\n"
     ],
     "output_type": "stream"
    }
   ],
   "source": [
    "dhr_section = waitForElement(driver, element_info=\"//div[contains(text(),'Daily Health Report')]\")"
   ],
   "metadata": {
    "collapsed": false,
    "pycharm": {
     "name": "#%%\n",
     "is_executing": false
    }
   }
  },
  {
   "cell_type": "code",
   "execution_count": 13,
   "outputs": [],
   "source": [
    "dhr_section.click()"
   ],
   "metadata": {
    "collapsed": false,
    "pycharm": {
     "name": "#%%\n",
     "is_executing": false
    }
   }
  },
  {
   "cell_type": "code",
   "execution_count": 14,
   "outputs": [
    {
     "name": "stdout",
     "text": [
      "Page is ready!\n"
     ],
     "output_type": "stream"
    }
   ],
   "source": [
    "# 健康打卡\n",
    "menu_button = waitForElement(driver, element_info=\"//div[contains(@class, 'tab')][2]\")"
   ],
   "metadata": {
    "collapsed": false,
    "pycharm": {
     "name": "#%%\n",
     "is_executing": false
    }
   }
  },
  {
   "cell_type": "code",
   "execution_count": 15,
   "metadata": {
    "collapsed": false,
    "jupyter": {
     "outputs_hidden": false
    },
    "pycharm": {
     "is_executing": false,
     "name": "#%% \n"
    }
   },
   "outputs": [
    {
     "name": "stdout",
     "text": [
      "2020-05-02\n"
     ],
     "output_type": "stream"
    }
   ],
   "source": [
    "# CHECK DATE\n",
    "from datetime import datetime\n",
    "\n",
    "curdate = datetime.today().strftime('%Y-%m-%d')\n",
    "\n",
    "print(curdate)"
   ]
  },
  {
   "cell_type": "code",
   "execution_count": 16,
   "metadata": {
    "collapsed": false,
    "jupyter": {
     "outputs_hidden": false
    },
    "pycharm": {
     "is_executing": false,
     "name": "#%%\n"
    }
   },
   "outputs": [
    {
     "name": "stdout",
     "text": [
      "date is correct: 2020-05-02\n"
     ],
     "output_type": "stream"
    }
   ],
   "source": [
    "if len(driver.find_elements_by_xpath(\"//span[text()[contains(.,'\" + curdate + \"')]]\")) > 0:\n",
    "    print(\"date is correct:\", curdate)\n",
    "    report += \"Date OK.\"\n",
    "else:\n",
    "    print(\"there's something wrong with date \"+ curdate +\", but we'll continue anyway\")\n",
    "    report += \"Date BAD.\""
   ]
  },
  {
   "cell_type": "code",
   "execution_count": 17,
   "metadata": {
    "collapsed": false,
    "jupyter": {
     "outputs_hidden": false
    },
    "pycharm": {
     "is_executing": false,
     "name": "#%%\n"
    }
   },
   "outputs": [
    {
     "name": "stdout",
     "text": [
      "time's alright: 0 : 39\n"
     ],
     "output_type": "stream"
    }
   ],
   "source": [
    "# CHECK TIME\n",
    "hours = int(datetime.today().strftime('%H'))\n",
    "minutes = int(datetime.today().strftime('%M'))\n",
    "\n",
    "if hours >= 16 and minutes >= 30:\n",
    "    print(\"too late for the daily health report\")\n",
    "    report += \"Time BAD.\"\n",
    "    send_report_and_close(report, driver)\n",
    "    # TODO: send_report_and_close()\n",
    "else:\n",
    "    print(\"time's alright:\", hours, ':', minutes)\n",
    "    report += \"Time OK.\""
   ]
  },
  {
   "cell_type": "code",
   "execution_count": 18,
   "metadata": {
    "pycharm": {
     "is_executing": false
    }
   },
   "outputs": [],
   "source": [
    "# Finally getting to the reporting part,\n",
    "# menu_button = driver.find_element_by_xpath(\"//div[contains(@class, 'tab')][2]\")\n",
    "# menu_button = driver.find_element_by_xpath(\"//div[text()='我的菜单')]\")\n",
    "menu_button.click()\n"
   ]
  },
  {
   "cell_type": "code",
   "execution_count": 63,
   "metadata": {
    "collapsed": false,
    "jupyter": {
     "outputs_hidden": false
    },
    "pycharm": {
     "is_executing": false,
     "name": "#%%\n"
    }
   },
   "outputs": [],
   "source": [
    "confirmation = driver.find_element_by_css_selector('div.page-header-fixed.blue-style.reset-container div.page-container.container-fluid div.page-content.row div.col-sm-12.page.left-show div.app-detail-page-form:nth-child(2) div.middle.middle-top div.preview-container:nth-child(1) div.preview-page.pc-view div.container-fluid.form-preview-content.pc-view.form-view:nth-child(4) div.form-style div.row.cell-div-pc:nth-child(23) div.form-group.form-cell.col-sm-12 div.v-select.btn-block.info-value.btn-group > div.form-control.dropdown-toggle')\n",
    "# confirmation = driver.find_elements_by_xpath(\"//div[contains(@class, 'form-control dropdown-toggle')]\")"
   ]
  },
  {
   "cell_type": "code",
   "execution_count": 64,
   "outputs": [],
   "source": [
    "# confirmation"
   ],
   "metadata": {
    "collapsed": false,
    "pycharm": {
     "name": "#%%\n",
     "is_executing": false
    }
   }
  },
  {
   "cell_type": "code",
   "execution_count": 65,
   "metadata": {
    "collapsed": false,
    "jupyter": {
     "outputs_hidden": false
    },
    "pycharm": {
     "is_executing": false,
     "name": "#%%\n"
    }
   },
   "outputs": [],
   "source": [
    "if len(driver.find_elements_by_xpath(\"//span[text()[contains(.,'是 Yes')]]\")) > 0:\n",
    "    print(\"confirmation is already yes, consider checking website yourself\")\n",
    "    report += 'Yes already.'\n",
    "    # clicking outside\n",
    "    # driver.find_element_by_xpath(\"//body\").click()\n",
    "else:\n",
    "    # hoping that the last element is the confirmation one\n",
    "    # WebElement element = driver.findElement(By.id(\"id_of_element\"));\n",
    "    driver.execute_script(\"arguments[0].scrollIntoView(true)\", confirmation)\n",
    "# ((JavascriptExecutor) driver).executeScript(\"arguments[0].scrollIntoView(true);\", element);\n",
    "    confirmation.click()\n",
    "    # yes_button = driver.find_element_by_xpath(\"//span[text()[contains(.,'是 Yes')]]/ancestor::label[@class='btn-block']\")\n",
    "    # yes_button.click()"
   ]
  },
  {
   "cell_type": "code",
   "execution_count": 25,
   "metadata": {
    "collapsed": false,
    "jupyter": {
     "outputs_hidden": false
    },
    "pycharm": {
     "is_executing": false,
     "name": "#%%\n"
    }
   },
   "outputs": [],
   "source": [
    "save_button = driver.find_elements_by_xpath(\"//span[text()[contains(.,'保存')]]\")[-1]"
   ]
  },
  {
   "cell_type": "code",
   "execution_count": 26,
   "metadata": {
    "collapsed": false,
    "jupyter": {
     "outputs_hidden": false
    },
    "pycharm": {
     "is_executing": false,
     "name": "#%%\n"
    }
   },
   "outputs": [
    {
     "name": "stdout",
     "text": [
      "4) clicked save\n"
     ],
     "output_type": "stream"
    },
    {
     "traceback": [
      "\u001b[0;31m---------------------------------------------------------------------------\u001b[0m",
      "\u001b[0;31mNoAlertPresentException\u001b[0m                   Traceback (most recent call last)",
      "\u001b[0;32m<ipython-input-26-5e27f0d71894>\u001b[0m in \u001b[0;36m<module>\u001b[0;34m\u001b[0m\n\u001b[1;32m     13\u001b[0m         \u001b[0mPOPUP\u001b[0m \u001b[0mALERT\u001b[0m\u001b[0;34m\u001b[0m\u001b[0;34m\u001b[0m\u001b[0m\n\u001b[1;32m     14\u001b[0m     '''\n\u001b[0;32m---> 15\u001b[0;31m     \u001b[0mdriver\u001b[0m\u001b[0;34m.\u001b[0m\u001b[0mswitch_to\u001b[0m\u001b[0;34m.\u001b[0m\u001b[0malert\u001b[0m\u001b[0;34m.\u001b[0m\u001b[0maccept\u001b[0m\u001b[0;34m(\u001b[0m\u001b[0;34m)\u001b[0m\u001b[0;34m\u001b[0m\u001b[0;34m\u001b[0m\u001b[0m\n\u001b[0m\u001b[1;32m     16\u001b[0m     \u001b[0mprint\u001b[0m\u001b[0;34m(\u001b[0m\u001b[0;34m\"5) clicked OK on an alert window\"\u001b[0m\u001b[0;34m)\u001b[0m\u001b[0;34m\u001b[0m\u001b[0;34m\u001b[0m\u001b[0m\n\u001b[1;32m     17\u001b[0m \u001b[0;34m\u001b[0m\u001b[0m\n",
      "\u001b[0;32m~/miniconda/envs/social_network/lib/python3.7/site-packages/selenium/webdriver/remote/switch_to.py\u001b[0m in \u001b[0;36malert\u001b[0;34m(self)\u001b[0m\n\u001b[1;32m     53\u001b[0m         \"\"\"\n\u001b[1;32m     54\u001b[0m         \u001b[0malert\u001b[0m \u001b[0;34m=\u001b[0m \u001b[0mAlert\u001b[0m\u001b[0;34m(\u001b[0m\u001b[0mself\u001b[0m\u001b[0;34m.\u001b[0m\u001b[0m_driver\u001b[0m\u001b[0;34m)\u001b[0m\u001b[0;34m\u001b[0m\u001b[0;34m\u001b[0m\u001b[0m\n\u001b[0;32m---> 55\u001b[0;31m         \u001b[0malert\u001b[0m\u001b[0;34m.\u001b[0m\u001b[0mtext\u001b[0m\u001b[0;34m\u001b[0m\u001b[0;34m\u001b[0m\u001b[0m\n\u001b[0m\u001b[1;32m     56\u001b[0m         \u001b[0;32mreturn\u001b[0m \u001b[0malert\u001b[0m\u001b[0;34m\u001b[0m\u001b[0;34m\u001b[0m\u001b[0m\n\u001b[1;32m     57\u001b[0m \u001b[0;34m\u001b[0m\u001b[0m\n",
      "\u001b[0;32m~/miniconda/envs/social_network/lib/python3.7/site-packages/selenium/webdriver/common/alert.py\u001b[0m in \u001b[0;36mtext\u001b[0;34m(self)\u001b[0m\n\u001b[1;32m     65\u001b[0m         \"\"\"\n\u001b[1;32m     66\u001b[0m         \u001b[0;32mif\u001b[0m \u001b[0mself\u001b[0m\u001b[0;34m.\u001b[0m\u001b[0mdriver\u001b[0m\u001b[0;34m.\u001b[0m\u001b[0mw3c\u001b[0m\u001b[0;34m:\u001b[0m\u001b[0;34m\u001b[0m\u001b[0;34m\u001b[0m\u001b[0m\n\u001b[0;32m---> 67\u001b[0;31m             \u001b[0;32mreturn\u001b[0m \u001b[0mself\u001b[0m\u001b[0;34m.\u001b[0m\u001b[0mdriver\u001b[0m\u001b[0;34m.\u001b[0m\u001b[0mexecute\u001b[0m\u001b[0;34m(\u001b[0m\u001b[0mCommand\u001b[0m\u001b[0;34m.\u001b[0m\u001b[0mW3C_GET_ALERT_TEXT\u001b[0m\u001b[0;34m)\u001b[0m\u001b[0;34m[\u001b[0m\u001b[0;34m\"value\"\u001b[0m\u001b[0;34m]\u001b[0m\u001b[0;34m\u001b[0m\u001b[0;34m\u001b[0m\u001b[0m\n\u001b[0m\u001b[1;32m     68\u001b[0m         \u001b[0;32melse\u001b[0m\u001b[0;34m:\u001b[0m\u001b[0;34m\u001b[0m\u001b[0;34m\u001b[0m\u001b[0m\n\u001b[1;32m     69\u001b[0m             \u001b[0;32mreturn\u001b[0m \u001b[0mself\u001b[0m\u001b[0;34m.\u001b[0m\u001b[0mdriver\u001b[0m\u001b[0;34m.\u001b[0m\u001b[0mexecute\u001b[0m\u001b[0;34m(\u001b[0m\u001b[0mCommand\u001b[0m\u001b[0;34m.\u001b[0m\u001b[0mGET_ALERT_TEXT\u001b[0m\u001b[0;34m)\u001b[0m\u001b[0;34m[\u001b[0m\u001b[0;34m\"value\"\u001b[0m\u001b[0;34m]\u001b[0m\u001b[0;34m\u001b[0m\u001b[0;34m\u001b[0m\u001b[0m\n",
      "\u001b[0;32m~/miniconda/envs/social_network/lib/python3.7/site-packages/selenium/webdriver/remote/webdriver.py\u001b[0m in \u001b[0;36mexecute\u001b[0;34m(self, driver_command, params)\u001b[0m\n\u001b[1;32m    319\u001b[0m         \u001b[0mresponse\u001b[0m \u001b[0;34m=\u001b[0m \u001b[0mself\u001b[0m\u001b[0;34m.\u001b[0m\u001b[0mcommand_executor\u001b[0m\u001b[0;34m.\u001b[0m\u001b[0mexecute\u001b[0m\u001b[0;34m(\u001b[0m\u001b[0mdriver_command\u001b[0m\u001b[0;34m,\u001b[0m \u001b[0mparams\u001b[0m\u001b[0;34m)\u001b[0m\u001b[0;34m\u001b[0m\u001b[0;34m\u001b[0m\u001b[0m\n\u001b[1;32m    320\u001b[0m         \u001b[0;32mif\u001b[0m \u001b[0mresponse\u001b[0m\u001b[0;34m:\u001b[0m\u001b[0;34m\u001b[0m\u001b[0;34m\u001b[0m\u001b[0m\n\u001b[0;32m--> 321\u001b[0;31m             \u001b[0mself\u001b[0m\u001b[0;34m.\u001b[0m\u001b[0merror_handler\u001b[0m\u001b[0;34m.\u001b[0m\u001b[0mcheck_response\u001b[0m\u001b[0;34m(\u001b[0m\u001b[0mresponse\u001b[0m\u001b[0;34m)\u001b[0m\u001b[0;34m\u001b[0m\u001b[0;34m\u001b[0m\u001b[0m\n\u001b[0m\u001b[1;32m    322\u001b[0m             response['value'] = self._unwrap_value(\n\u001b[1;32m    323\u001b[0m                 response.get('value', None))\n",
      "\u001b[0;32m~/miniconda/envs/social_network/lib/python3.7/site-packages/selenium/webdriver/remote/errorhandler.py\u001b[0m in \u001b[0;36mcheck_response\u001b[0;34m(self, response)\u001b[0m\n\u001b[1;32m    240\u001b[0m                 \u001b[0malert_text\u001b[0m \u001b[0;34m=\u001b[0m \u001b[0mvalue\u001b[0m\u001b[0;34m[\u001b[0m\u001b[0;34m'alert'\u001b[0m\u001b[0;34m]\u001b[0m\u001b[0;34m.\u001b[0m\u001b[0mget\u001b[0m\u001b[0;34m(\u001b[0m\u001b[0;34m'text'\u001b[0m\u001b[0;34m)\u001b[0m\u001b[0;34m\u001b[0m\u001b[0;34m\u001b[0m\u001b[0m\n\u001b[1;32m    241\u001b[0m             \u001b[0;32mraise\u001b[0m \u001b[0mexception_class\u001b[0m\u001b[0;34m(\u001b[0m\u001b[0mmessage\u001b[0m\u001b[0;34m,\u001b[0m \u001b[0mscreen\u001b[0m\u001b[0;34m,\u001b[0m \u001b[0mstacktrace\u001b[0m\u001b[0;34m,\u001b[0m \u001b[0malert_text\u001b[0m\u001b[0;34m)\u001b[0m\u001b[0;34m\u001b[0m\u001b[0;34m\u001b[0m\u001b[0m\n\u001b[0;32m--> 242\u001b[0;31m         \u001b[0;32mraise\u001b[0m \u001b[0mexception_class\u001b[0m\u001b[0;34m(\u001b[0m\u001b[0mmessage\u001b[0m\u001b[0;34m,\u001b[0m \u001b[0mscreen\u001b[0m\u001b[0;34m,\u001b[0m \u001b[0mstacktrace\u001b[0m\u001b[0;34m)\u001b[0m\u001b[0;34m\u001b[0m\u001b[0;34m\u001b[0m\u001b[0m\n\u001b[0m\u001b[1;32m    243\u001b[0m \u001b[0;34m\u001b[0m\u001b[0m\n\u001b[1;32m    244\u001b[0m     \u001b[0;32mdef\u001b[0m \u001b[0m_value_or_default\u001b[0m\u001b[0;34m(\u001b[0m\u001b[0mself\u001b[0m\u001b[0;34m,\u001b[0m \u001b[0mobj\u001b[0m\u001b[0;34m,\u001b[0m \u001b[0mkey\u001b[0m\u001b[0;34m,\u001b[0m \u001b[0mdefault\u001b[0m\u001b[0;34m)\u001b[0m\u001b[0;34m:\u001b[0m\u001b[0;34m\u001b[0m\u001b[0;34m\u001b[0m\u001b[0m\n",
      "\u001b[0;31mNoAlertPresentException\u001b[0m: Message: no such alert\n  (Session info: chrome=81.0.4044.129)\n"
     ],
     "ename": "NoAlertPresentException",
     "evalue": "Message: no such alert\n  (Session info: chrome=81.0.4044.129)\n",
     "output_type": "error"
    }
   ],
   "source": [
    "saved_suc = None\n",
    "retry = -1\n",
    "driver.execute_script(\"arguments[0].scrollIntoView(true);\", save_button)\n",
    "while saved_suc is None and retry < 10:\n",
    "    retry += 1\n",
    "    if retry > 0:\n",
    "        print(\"Hasn't saved retrying:\", retry, \"of 10\")\n",
    "    driver.execute_script(\"arguments[0].click();\", save_button)\n",
    "    # save_button.click()\n",
    "    print(\"4) clicked save\")\n",
    "\n",
    "    '''\n",
    "        POPUP ALERT\n",
    "    '''\n",
    "    driver.switch_to.alert.accept()\n",
    "    print(\"5) clicked OK on an alert window\")\n",
    "\n",
    "    '''\n",
    "        保存成功\n",
    "    '''\n",
    "    saved_suc = waitForElement(driver, delay=7, element_info=\"//pre[contains(@class, 'message')]\", do_quit=False)\n",
    "\n",
    "report += 'Saved OK.'\n",
    "if retry > 0:\n",
    "    report += str(retry) + ' retry'\n",
    "\n",
    "print(\"6) has been saved\")"
   ]
  },
  {
   "cell_type": "code",
   "execution_count": 27,
   "metadata": {
    "collapsed": false,
    "jupyter": {
     "outputs_hidden": false
    },
    "pycharm": {
     "is_executing": false,
     "name": "#%%\n"
    }
   },
   "outputs": [
    {
     "name": "stdout",
     "text": [
      "It should be done by now\n"
     ],
     "output_type": "stream"
    }
   ],
   "source": [
    "# sendNotification(\"DH\", report)\n",
    "# driver.close()\n",
    "print(\"It should be done by now\")\n",
    "send_report_and_close(report, driver)"
   ]
  },
  {
   "cell_type": "code",
   "execution_count": null,
   "outputs": [],
   "source": [],
   "metadata": {
    "collapsed": false,
    "pycharm": {
     "name": "#%%\n"
    }
   }
  },
  {
   "cell_type": "code",
   "execution_count": null,
   "metadata": {},
   "outputs": [],
   "source": []
  }
 ],
 "metadata": {
  "kernelspec": {
   "display_name": "social_network",
   "language": "python",
   "name": "social_network"
  },
  "language_info": {
   "codemirror_mode": {
    "name": "ipython",
    "version": 3
   },
   "file_extension": ".py",
   "mimetype": "text/x-python",
   "name": "python",
   "nbconvert_exporter": "python",
   "pygments_lexer": "ipython3",
   "version": "3.7.6"
  },
  "pycharm": {
   "stem_cell": {
    "cell_type": "raw",
    "source": [],
    "metadata": {
     "collapsed": false
    }
   }
  }
 },
 "nbformat": 4,
 "nbformat_minor": 4
}