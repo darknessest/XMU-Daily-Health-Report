{
 "cells": [
  {
   "cell_type": "code",
   "execution_count": null,
   "metadata": {
    "pycharm": {
     "is_executing": false,
     "name": "#%%\n"
    }
   },
   "outputs": [],
   "source": [
    "import os\n",
    "import requests\n",
    "\n",
    "from selenium import webdriver\n",
    "from selenium.webdriver.common.by import By\n",
    "from selenium.common.exceptions import NoSuchElementException, TimeoutException\n",
    "from selenium.webdriver.support.wait import WebDriverWait\n",
    "from selenium.webdriver.support import expected_conditions as EC"
   ]
  },
  {
   "cell_type": "code",
   "execution_count": null,
   "metadata": {
    "collapsed": false,
    "jupyter": {
     "outputs_hidden": false
    },
    "pycharm": {
     "is_executing": false,
     "name": "#%%\n"
    }
   },
   "outputs": [],
   "source": [
    "def sendNotification(app_name, message, additional_message='', event_name='program_log'):\n",
    "    my_key = 'dtFZmutEg9ANUtSEpAU7Tu'\n",
    "    data = {\n",
    "        \"value1\" : app_name,\n",
    "        \"value2\" : message,\n",
    "        \"value3\" : additional_message\n",
    "    }\n",
    "    url = \"https://maker.ifttt.com/trigger/\" + event_name + \"/with/key/\" + my_key\n",
    "    \n",
    "    r = requests.post(url, data=data)\n",
    "    \n",
    "    return r"
   ]
  },
  {
   "cell_type": "code",
   "execution_count": null,
   "metadata": {
    "collapsed": false,
    "jupyter": {
     "outputs_hidden": false
    },
    "pycharm": {
     "is_executing": false,
     "name": "#%%\n"
    }
   },
   "outputs": [],
   "source": [
    "def waitForElement(driver, by_what=By.XPATH, element_info='', delay=20, do_quit=True):\n",
    "    try:\n",
    "        elem = WebDriverWait(driver, delay).until(EC.presence_of_element_located((by_what, element_info)))\n",
    "        print(\"Page is ready!\")\n",
    "        return elem\n",
    "    except TimeoutException:\n",
    "        print(\"Loading took too much time!\")\n",
    "        print(\"quiting while waiting for element:\", element_info)\n",
    "        if do_quit:\n",
    "            report = \"quiting while waiting for element: \" + element_info\n",
    "            send_report_and_close(report, driver)\n",
    "            # driver.quit()\n",
    "        return None"
   ]
  },
  {
   "cell_type": "code",
   "execution_count": null,
   "metadata": {
    "collapsed": false,
    "jupyter": {
     "outputs_hidden": false
    },
    "pycharm": {
     "is_executing": false,
     "name": "#%%\n"
    }
   },
   "outputs": [],
   "source": [
    "# sendNotification('Hello', 'Hello', event_name='program_log')"
   ]
  },
  {
   "cell_type": "code",
   "execution_count": null,
   "metadata": {
    "pycharm": {
     "is_executing": false
    }
   },
   "outputs": [],
   "source": [
    "def send_report_and_close(report, driver):\n",
    "    for i in range(10):\n",
    "        r = sendNotification('Jupyter DHR', report)\n",
    "        if r.status_code == 200:\n",
    "            break\n",
    "        else:\n",
    "            print(\"Hasn't send retrying... \" + str(i) + \" of 10\")\n",
    "  \n",
    "    driver.close()\n",
    "    exit()"
   ]
  },
  {
   "cell_type": "code",
   "execution_count": null,
   "metadata": {
    "collapsed": false,
    "jupyter": {
     "outputs_hidden": false
    },
    "pycharm": {
     "is_executing": false,
     "name": "#%%\n"
    }
   },
   "outputs": [],
   "source": [
    "report = ''\n",
    "url = 'https://xmuxg.xmu.edu.cn/app/214'\n",
    "path_to_driver = os.path.join(os.path.curdir, 'chromedriver')\n",
    "\n",
    "driver = webdriver.Chrome(path_to_driver)\n",
    "driver.get(url)\n"
   ]
  },
  {
   "cell_type": "code",
   "execution_count": null,
   "metadata": {
    "collapsed": false,
    "jupyter": {
     "outputs_hidden": false
    },
    "pycharm": {
     "is_executing": false,
     "name": "#%%\n"
    }
   },
   "outputs": [],
   "source": [
    "loaded_url = driver.current_url\n",
    "if 'login' in loaded_url:\n",
    "    # log in here then\n",
    "    print('waiting to click')\n",
    "    loging_button = waitForElement(driver, element_info=\"//button[contains(.,'统一身份认证')]\")\n",
    "\n",
    "    loging_button.click()\n"
   ]
  },
  {
   "cell_type": "code",
   "execution_count": null,
   "metadata": {
    "collapsed": false,
    "jupyter": {
     "outputs_hidden": false
    },
    "pycharm": {
     "is_executing": false,
     "name": "#%%\n"
    }
   },
   "outputs": [],
   "source": [
    "    login_field = driver.find_element_by_xpath(\"//input[@id='username']\")\n",
    "    login_field.click()\n",
    "    print('clicking login')\n",
    "    # login_field.clear()\n",
    "    login_field.send_keys('')\n",
    "\n",
    "    password_field = driver.find_element_by_xpath(\"//input[@id='password']\")\n",
    "    password_field.click()\n",
    "    print('clicking password')\n",
    "    # password_field.clear()\n",
    "    password_field.send_keys('')"
   ]
  },
  {
   "cell_type": "code",
   "execution_count": null,
   "metadata": {
    "collapsed": false,
    "jupyter": {
     "outputs_hidden": false
    },
    "pycharm": {
     "is_executing": false,
     "name": "#%%\n"
    }
   },
   "outputs": [],
   "source": [
    "    # press login/登录\n",
    "    loging_button = driver.find_element_by_xpath(\"//button[contains(.,'登录/Login')]\")\n",
    "    loging_button.click()\n",
    "    \n",
    "    if loaded_url != driver.current_url:\n",
    "        print(\"logged in successfully\")\n",
    "        report += 'Login OK.'\n",
    "    else:\n",
    "        print(\"Hasn't logged in\")\n",
    "        report = \"Hasn't logged in. Check log:pass\"\n",
    "        send_report_and_close(report, driver)\n",
    "        # TODO: send_report_and_close()\n",
    "\n",
    "#\n",
    "# /html/body/div[1]/div[@id='main']/div[@class='page-container container-fluid']/div[@class='page-content row']/div[@class='col-sm-12 page left-show']/div[@id='mainPage-page']/div[@class='main-p']/div[@class='shadow_box box_wrap_2']/div[2]/div[@class='box_main box_flex']/div[@class='app_child box_flex'][1]/div[@class='grow_1 box_flex column justify_center']/div[@class='title box_flex']"
   ]
  },
  {
   "cell_type": "code",
   "execution_count": null,
   "metadata": {},
   "outputs": [],
   "source": [
    "print(\"closing nav bar\")\n",
    "nav_bar = waitForElement(driver, element_info=\"//div[@class='menu-toggle pull-left']\")\n",
    "nav_bar.click()"
   ]
  },
  {
   "cell_type": "code",
   "execution_count": null,
   "metadata": {
    "pycharm": {
     "is_executing": false,
     "name": "#%%\n"
    }
   },
   "outputs": [],
   "source": [
    "dhr_section = waitForElement(driver, element_info=\"//div[contains(text(),'Daily Health Report')]\")"
   ]
  },
  {
   "cell_type": "code",
   "execution_count": null,
   "metadata": {
    "collapsed": false,
    "jupyter": {
     "outputs_hidden": false
    },
    "pycharm": {
     "is_executing": false,
     "name": "#%%\n"
    }
   },
   "outputs": [],
   "source": [
    "dhr_section.click()"
   ]
  },
  {
   "cell_type": "code",
   "execution_count": null,
   "metadata": {
    "collapsed": false,
    "jupyter": {
     "outputs_hidden": false
    },
    "pycharm": {
     "is_executing": false,
     "name": "#%%\n"
    }
   },
   "outputs": [],
   "source": [
    "# 健康打卡\n",
    "menu_button = waitForElement(driver, element_info=\"//div[contains(@class, 'tab')][2]\")"
   ]
  },
  {
   "cell_type": "code",
   "execution_count": null,
   "metadata": {
    "collapsed": false,
    "jupyter": {
     "outputs_hidden": false
    },
    "pycharm": {
     "is_executing": false,
     "name": "#%% \n"
    }
   },
   "outputs": [],
   "source": [
    "# CHECK DATE\n",
    "from datetime import datetime\n",
    "\n",
    "curdate = datetime.today().strftime('%Y-%m-%d')\n",
    "\n",
    "print(curdate)"
   ]
  },
  {
   "cell_type": "code",
   "execution_count": null,
   "metadata": {
    "collapsed": false,
    "jupyter": {
     "outputs_hidden": false
    },
    "pycharm": {
     "is_executing": false,
     "name": "#%%\n"
    }
   },
   "outputs": [],
   "source": [
    "if len(driver.find_elements_by_xpath(\"//span[text()[contains(.,'\" + curdate + \"')]]\")) > 0:\n",
    "    print(\"date is correct:\", curdate)\n",
    "    report += \"Date OK.\"\n",
    "else:\n",
    "    print(\"there's something wrong with date \"+ curdate +\", but we'll continue anyway\")\n",
    "    report += \"Date BAD.\""
   ]
  },
  {
   "cell_type": "code",
   "execution_count": null,
   "metadata": {
    "collapsed": false,
    "jupyter": {
     "outputs_hidden": false
    },
    "pycharm": {
     "is_executing": false,
     "name": "#%%\n"
    }
   },
   "outputs": [],
   "source": [
    "# CHECK TIME\n",
    "hours = int(datetime.today().strftime('%H'))\n",
    "minutes = int(datetime.today().strftime('%M'))\n",
    "\n",
    "if hours >= 16 and minutes >= 30:\n",
    "    print(\"too late for the daily health report\")\n",
    "    report += \"Time BAD.\"\n",
    "    send_report_and_close(report, driver)\n",
    "    # TODO: send_report_and_close()\n",
    "else:\n",
    "    print(\"time's alright:\", hours, ':', minutes)\n",
    "    report += \"Time OK.\""
   ]
  },
  {
   "cell_type": "code",
   "execution_count": null,
   "metadata": {
    "pycharm": {
     "is_executing": false
    }
   },
   "outputs": [],
   "source": [
    "# Finally getting to the reporting part,\n",
    "# menu_button = driver.find_element_by_xpath(\"//div[contains(@class, 'tab')][2]\")\n",
    "# menu_button = driver.find_element_by_xpath(\"//div[text()='我的菜单')]\")\n",
    "menu_button.click()\n"
   ]
  },
  {
   "cell_type": "code",
   "execution_count": null,
   "metadata": {
    "collapsed": false,
    "jupyter": {
     "outputs_hidden": false
    },
    "pycharm": {
     "is_executing": false,
     "name": "#%%\n"
    }
   },
   "outputs": [],
   "source": [
    "confirmation_field = driver.find_elements_by_xpath(\"//div[contains(@class, 'v-select btn-block info-value')]\")[-1]# confirmation = driver.find_elements_by_xpath(\"//div[contains(@class, 'form-control dropdown-toggle')]\")"
   ]
  },
  {
   "cell_type": "code",
   "execution_count": null,
   "metadata": {
    "collapsed": false,
    "jupyter": {
     "outputs_hidden": false
    },
    "pycharm": {
     "is_executing": false,
     "name": "#%%\n"
    }
   },
   "outputs": [],
   "source": [
    "# confirmation"
   ]
  },
  {
   "cell_type": "code",
   "execution_count": null,
   "metadata": {
    "collapsed": false,
    "jupyter": {
     "outputs_hidden": false
    },
    "pycharm": {
     "is_executing": false,
     "name": "#%%\n"
    }
   },
   "outputs": [],
   "source": [
    "if len(driver.find_elements_by_xpath(\"//span[text()[contains(.,'是 Yes')]]\")) > 0:\n",
    "    print(\"confirmation is already yes, consider checking website yourself\")\n",
    "    report += 'Yes already.'\n",
    "    # clicking outside\n",
    "    # driver.find_element_by_xpath(\"//body\").click()\n",
    "else:\n",
    "    # hoping that the last element is the confirmation one\n",
    "    # WebElement element = driver.findElement(By.id(\"id_of_element\"));\n",
    "    driver.execute_script(\"arguments[0].scrollIntoView(true)\", confirmation)\n",
    "# ((JavascriptExecutor) driver).executeScript(\"arguments[0].scrollIntoView(true);\", element);\n",
    "    confirmation.click()\n",
    "    # yes_button = driver.find_element_by_xpath(\"//span[text()[contains(.,'是 Yes')]]/ancestor::label[@class='btn-block']\")\n",
    "    # yes_button.click()"
   ]
  },
  {
   "cell_type": "code",
   "execution_count": null,
   "metadata": {
    "collapsed": false,
    "jupyter": {
     "outputs_hidden": false
    },
    "pycharm": {
     "is_executing": false,
     "name": "#%%\n"
    }
   },
   "outputs": [],
   "source": [
    "save_button = driver.find_elements_by_xpath(\"//span[text()[contains(.,'保存')]]\")[-1]"
   ]
  },
  {
   "cell_type": "code",
   "execution_count": null,
   "metadata": {
    "collapsed": false,
    "jupyter": {
     "outputs_hidden": false
    },
    "pycharm": {
     "is_executing": false,
     "name": "#%%\n"
    }
   },
   "outputs": [],
   "source": [
    "saved_suc = None\n",
    "retry = -1\n",
    "driver.execute_script(\"arguments[0].scrollIntoView(true);\", save_button)\n",
    "while saved_suc is None and retry < 10:\n",
    "    retry += 1\n",
    "    if retry > 0:\n",
    "        print(\"Hasn't saved retrying:\", retry, \"of 10\")\n",
    "    driver.execute_script(\"arguments[0].click();\", save_button)\n",
    "    # save_button.click()\n",
    "    print(\"4) clicked save\")\n",
    "\n",
    "    '''\n",
    "        POPUP ALERT\n",
    "    '''\n",
    "    driver.switch_to.alert.accept()\n",
    "    print(\"5) clicked OK on an alert window\")\n",
    "\n",
    "    '''\n",
    "        保存成功\n",
    "    '''\n",
    "    saved_suc = waitForElement(driver, delay=7, element_info=\"//pre[contains(@class, 'message')]\", do_quit=False)\n",
    "\n",
    "report += 'Saved OK.'\n",
    "if retry > 0:\n",
    "    report += str(retry) + ' retry'\n",
    "\n",
    "print(\"6) has been saved\")"
   ]
  },
  {
   "cell_type": "code",
   "execution_count": null,
   "metadata": {
    "collapsed": false,
    "jupyter": {
     "outputs_hidden": false
    },
    "pycharm": {
     "is_executing": false,
     "name": "#%%\n"
    }
   },
   "outputs": [],
   "source": [
    "# sendNotification(\"DH\", report)\n",
    "# driver.close()\n",
    "print(\"It should be done by now\")\n",
    "send_report_and_close(report, driver)"
   ]
  },
  {
   "cell_type": "code",
   "execution_count": null,
   "metadata": {
    "collapsed": false,
    "jupyter": {
     "outputs_hidden": false
    },
    "pycharm": {
     "name": "#%%\n"
    }
   },
   "outputs": [],
   "source": []
  },
  {
   "cell_type": "code",
   "execution_count": null,
   "metadata": {},
   "outputs": [],
   "source": []
  }
 ],
 "metadata": {
  "kernelspec": {
   "display_name": "social_network",
   "language": "python",
   "name": "social_network"
  },
  "language_info": {
   "codemirror_mode": {
    "name": "ipython",
    "version": 3
   },
   "file_extension": ".py",
   "mimetype": "text/x-python",
   "name": "python",
   "nbconvert_exporter": "python",
   "pygments_lexer": "ipython3",
   "version": "3.7.7"
  },
  "pycharm": {
   "stem_cell": {
    "cell_type": "raw",
    "metadata": {
     "collapsed": false
    },
    "source": []
   }
  }
 },
 "nbformat": 4,
 "nbformat_minor": 4
}
