{
 "cells": [
  {
   "cell_type": "markdown",
   "metadata": {},
   "source": [
    "<li class=\"dropdown-items active\">\n",
    "<label title=\"是 Yes\" class=\"btn-block\">\n",
    "    <span class=\"pull-left\">\n",
    "    <i class=\"maticon\"></i></span> \n",
    "    <span>是 Yes</span>\n",
    "</label></li>\n"
   ]
  },
  {
   "cell_type": "code",
   "execution_count": 1,
   "metadata": {
    "pycharm": {
     "is_executing": false
    }
   },
   "outputs": [],
   "source": [
    "import time\n",
    "from selenium import webdriver\n",
    "from selenium.webdriver.common.by import By\n",
    "from selenium.common.exceptions import NoSuchElementException, TimeoutException\n",
    "from selenium.webdriver.support.wait import WebDriverWait\n",
    "from selenium.webdriver.support import expected_conditions as EC"
   ]
  },
  {
   "cell_type": "code",
   "execution_count": 28,
   "metadata": {
    "collapsed": false,
    "jupyter": {
     "outputs_hidden": false
    },
    "pycharm": {
     "is_executing": false,
     "name": "#%%\n"
    }
   },
   "outputs": [],
   "source": [
    "url = 'https://xmuxg.xmu.edu.cn/app/214'\n",
    "\n",
    "driver = webdriver.Chrome('/Users/Alexey/PycharmProjects/Scrapping/chromedriver')\n",
    "driver.get(url)\n",
    "# check whether logged in\n",
    "# wait to load up TODO: change to a different method\n"
   ]
  },
  {
   "cell_type": "code",
   "execution_count": 29,
   "metadata": {
    "collapsed": false,
    "jupyter": {
     "outputs_hidden": false
    },
    "pycharm": {
     "is_executing": false,
     "name": "#%%\n"
    }
   },
   "outputs": [
    {
     "name": "stdout",
     "text": [
      "waiting to click\n"
     ],
     "output_type": "stream"
    }
   ],
   "source": [
    "loaded_url = driver.current_url\n",
    "if 'login' in loaded_url:\n",
    "    # log in here then\n",
    "    print('waiting to click')\n",
    "    loging_button = driver.find_element_by_xpath(\"//button[contains(.,'统一身份认证')]\")\n",
    "\n",
    "    loging_button.click()\n",
    "\n",
    "    "
   ]
  },
  {
   "cell_type": "code",
   "execution_count": 30,
   "metadata": {
    "collapsed": false,
    "jupyter": {
     "outputs_hidden": false
    },
    "pycharm": {
     "is_executing": false,
     "name": "#%%\n"
    }
   },
   "outputs": [
    {
     "name": "stdout",
     "text": [
      "clicking login\n",
      "clicking password\n"
     ],
     "output_type": "stream"
    }
   ],
   "source": [
    "    login_field = driver.find_element_by_name(\"username\")\n",
    "    login_field.click()\n",
    "    print('clicking login')\n",
    "    # login_field.clear()\n",
    "    login_field.send_keys('')\n",
    "    \n",
    "    password_field = driver.find_element_by_name(\"password\")\n",
    "    password_field.click()\n",
    "    print('clicking password')\n",
    "        # password_field.clear()\n",
    "    password_field.send_keys('')"
   ]
  },
  {
   "cell_type": "code",
   "execution_count": 31,
   "metadata": {
    "collapsed": false,
    "jupyter": {
     "outputs_hidden": false
    },
    "pycharm": {
     "is_executing": false,
     "name": "#%%\n"
    }
   },
   "outputs": [
    {
     "name": "stdout",
     "text": [
      "logged in\n"
     ],
     "output_type": "stream"
    }
   ],
   "source": [
    "    # press login/登录\n",
    "    loging_button = driver.find_element_by_xpath(\"//button[contains(.,'登录/Login')]\")\n",
    "    loging_button.click()\n",
    "\n",
    "\n",
    "print('logged in')"
   ]
  },
  {
   "cell_type": "code",
   "execution_count": 32,
   "metadata": {
    "collapsed": false,
    "jupyter": {
     "outputs_hidden": false
    },
    "pycharm": {
     "is_executing": false,
     "name": "#%%\n"
    }
   },
   "outputs": [
    {
     "name": "stdout",
     "text": [
      "2020-03-29\n"
     ],
     "output_type": "stream"
    }
   ],
   "source": [
    "# CHECK DATE\n",
    "from datetime import datetime\n",
    "\n",
    "curdate = datetime.today().strftime('%Y-%m-%d')\n",
    "\n",
    "print(curdate)"
   ]
  },
  {
   "cell_type": "code",
   "execution_count": 33,
   "metadata": {
    "collapsed": false,
    "jupyter": {
     "outputs_hidden": false
    },
    "pycharm": {
     "is_executing": false,
     "name": "#%%\n"
    }
   },
   "outputs": [
    {
     "name": "stdout",
     "text": [
      "date is correct: 2020-03-29\n"
     ],
     "output_type": "stream"
    }
   ],
   "source": [
    "if len(driver.find_elements_by_xpath(\"//span[text()[contains(.,'\" + curdate + \"')]]\")) > 0:\n",
    "    print(\"date is correct:\", curdate)\n",
    "else:\n",
    "    print(\"there's something wrong with date \"+ curdate +\", but we'll continue anyway\")"
   ]
  },
  {
   "cell_type": "code",
   "execution_count": 12,
   "outputs": [
    {
     "name": "stdout",
     "text": [
      "time's alright: 0 : 15\n"
     ],
     "output_type": "stream"
    }
   ],
   "source": [
    "# CHECK TIME\n",
    "hours = int(datetime.today().strftime('%H'))\n",
    "minutes = int(datetime.today().strftime('%M'))\n",
    "\n",
    "if hours >= 16 and minutes >= 30:\n",
    "    print(\"too late for the daily health report\")\n",
    "    driver.close()\n",
    "    exit()\n",
    "else:\n",
    "    print(\"time's alright:\", hours, ':', minutes)\n"
   ],
   "metadata": {
    "collapsed": false,
    "pycharm": {
     "name": "#%%\n",
     "is_executing": false
    }
   }
  },
  {
   "cell_type": "code",
   "execution_count": 13,
   "metadata": {
    "pycharm": {
     "is_executing": false
    }
   },
   "outputs": [],
   "source": [
    "# Finally getting to the reporting part,\n",
    "menu_button = driver.find_element_by_xpath(\"//div[contains(@class, 'tab')][2]\")\n",
    "# menu_button = driver.find_element_by_xpath(\"//div[text()='我的菜单')]\")\n",
    "menu_button.click()\n"
   ]
  },
  {
   "cell_type": "code",
   "execution_count": 15,
   "metadata": {
    "collapsed": false,
    "jupyter": {
     "outputs_hidden": false
    },
    "pycharm": {
     "is_executing": false,
     "name": "#%%\n"
    }
   },
   "outputs": [],
   "source": [
    "# Finally getting to the reporting part,\n",
    "menu_button = driver.find_element_by_xpath(\"//div[contains(@class, 'tab')][2]\")\n",
    "# menu_button = driver.find_element_by_xpath(\"//div[text()='我的菜单')]\")\n",
    "menu_button.click()\n"
   ]
  },
  {
   "cell_type": "code",
   "execution_count": 25,
   "metadata": {
    "collapsed": false,
    "jupyter": {
     "outputs_hidden": false
    },
    "pycharm": {
     "is_executing": false,
     "name": "#%%\n"
    }
   },
   "outputs": [],
   "source": [
    "confirmation = driver.find_elements_by_xpath(\"//div[contains(@class, 'form-control dropdown-toggle')]\")"
   ]
  },
  {
   "cell_type": "code",
   "execution_count": 26,
   "metadata": {
    "collapsed": false,
    "jupyter": {
     "outputs_hidden": false
    },
    "pycharm": {
     "is_executing": false,
     "name": "#%%\n"
    }
   },
   "outputs": [],
   "source": [
    "if len(driver.find_elements_by_xpath(\"//span[text()[contains(.,'是 Yes')]]/ancestor::label[@class='btn-block']\")) > 0:\n",
    "    print(\"confirmation is already yes, consider checking website yourself\")\n",
    "    # clicking outside\n",
    "    # driver.find_element_by_xpath(\"//body\").click()\n",
    "else:\n",
    "    # hoping that the last element is the confirmation one\n",
    "    confirmation[-1].click()\n",
    "    yes_button = driver.find_element_by_xpath(\"//span[text()[contains(.,'是 Yes')]]/ancestor::label[@class='btn-block']\")\n",
    "    yes_button.click()"
   ]
  },
  {
   "cell_type": "code",
   "execution_count": 27,
   "metadata": {
    "collapsed": false,
    "jupyter": {
     "outputs_hidden": false
    },
    "pycharm": {
     "is_executing": false,
     "name": "#%%\n"
    }
   },
   "outputs": [
    {
     "data": {
      "text/plain": "[<selenium.webdriver.remote.webelement.WebElement (session=\"152b5f547079e6ede4ff6cc7976ad527\", element=\"5a471cb9-149d-488a-ab99-5929a0df04eb\")>,\n <selenium.webdriver.remote.webelement.WebElement (session=\"152b5f547079e6ede4ff6cc7976ad527\", element=\"13bc1ede-c2ac-4df0-b3d2-f833381d7d76\")>,\n <selenium.webdriver.remote.webelement.WebElement (session=\"152b5f547079e6ede4ff6cc7976ad527\", element=\"519a9cc8-a237-4bd2-980e-5afede4e2240\")>,\n <selenium.webdriver.remote.webelement.WebElement (session=\"152b5f547079e6ede4ff6cc7976ad527\", element=\"eb48f9c9-cc06-443e-b41e-c3a0d7ec13ee\")>,\n <selenium.webdriver.remote.webelement.WebElement (session=\"152b5f547079e6ede4ff6cc7976ad527\", element=\"d020e53f-46b6-48ad-935c-82a623714918\")>,\n <selenium.webdriver.remote.webelement.WebElement (session=\"152b5f547079e6ede4ff6cc7976ad527\", element=\"17954d5c-5526-489f-8a64-c5ce46adfe3e\")>,\n <selenium.webdriver.remote.webelement.WebElement (session=\"152b5f547079e6ede4ff6cc7976ad527\", element=\"eea4f1c6-cabf-4677-9310-7716d6bbc2d8\")>,\n <selenium.webdriver.remote.webelement.WebElement (session=\"152b5f547079e6ede4ff6cc7976ad527\", element=\"8a489915-48f8-41dc-81cd-f2cab618d8e3\")>,\n <selenium.webdriver.remote.webelement.WebElement (session=\"152b5f547079e6ede4ff6cc7976ad527\", element=\"e17f327c-2a43-45f6-8187-39a1624928fe\")>,\n <selenium.webdriver.remote.webelement.WebElement (session=\"152b5f547079e6ede4ff6cc7976ad527\", element=\"c8dcb396-bf65-4364-a41d-8d7c9e053921\")>,\n <selenium.webdriver.remote.webelement.WebElement (session=\"152b5f547079e6ede4ff6cc7976ad527\", element=\"c7250ee0-4f34-4446-bd94-0d8ae9d98a1b\")>,\n <selenium.webdriver.remote.webelement.WebElement (session=\"152b5f547079e6ede4ff6cc7976ad527\", element=\"f7963fe0-7b94-4349-a502-8b79ab4e5146\")>,\n <selenium.webdriver.remote.webelement.WebElement (session=\"152b5f547079e6ede4ff6cc7976ad527\", element=\"c2081504-5eae-45f4-ac65-c421754da7f1\")>,\n <selenium.webdriver.remote.webelement.WebElement (session=\"152b5f547079e6ede4ff6cc7976ad527\", element=\"ba28f453-b1df-4983-bad6-1b34cfa9ee89\")>]"
     },
     "metadata": {},
     "output_type": "execute_result",
     "execution_count": 27
    }
   ],
   "source": [
    "confirmation"
   ]
  },
  {
   "cell_type": "code",
   "execution_count": 22,
   "metadata": {
    "collapsed": false,
    "jupyter": {
     "outputs_hidden": false
    },
    "pycharm": {
     "is_executing": false,
     "name": "#%%      \n"
    }
   },
   "outputs": [],
   "source": [
    "save_button = driver.find_elements_by_xpath(\"//span[text()[contains(.,'保存')]]\")\n",
    "\n",
    "save_button[-1].click()"
   ]
  },
  {
   "cell_type": "code",
   "execution_count": 23,
   "metadata": {
    "collapsed": false,
    "jupyter": {
     "outputs_hidden": false
    },
    "pycharm": {
     "is_executing": false,
     "name": "#%%\n"
    }
   },
   "outputs": [],
   "source": [
    "driver.switch_to.alert.accept()"
   ]
  },
  {
   "cell_type": "code",
   "execution_count": null,
   "metadata": {
    "collapsed": false,
    "jupyter": {
     "outputs_hidden": false
    },
    "pycharm": {
     "name": "#%%\n"
    }
   },
   "outputs": [],
   "source": [
    "driver.close()\n",
    "\n",
    "\n",
    "\n"
   ]
  }
 ],
 "metadata": {
  "kernelspec": {
   "display_name": "social_network",
   "language": "python",
   "name": "social_network"
  },
  "language_info": {
   "codemirror_mode": {
    "name": "ipython",
    "version": 3
   },
   "file_extension": ".py",
   "mimetype": "text/x-python",
   "name": "python",
   "nbconvert_exporter": "python",
   "pygments_lexer": "ipython3",
   "version": "3.7.6"
  },
  "pycharm": {
   "stem_cell": {
    "cell_type": "raw",
    "source": [],
    "metadata": {
     "collapsed": false
    }
   }
  }
 },
 "nbformat": 4,
 "nbformat_minor": 4
}